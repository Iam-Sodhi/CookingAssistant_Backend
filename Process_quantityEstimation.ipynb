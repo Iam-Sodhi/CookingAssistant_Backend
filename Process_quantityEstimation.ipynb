{
 "cells": [
  {
   "cell_type": "code",
   "execution_count": 2,
   "metadata": {},
   "outputs": [],
   "source": [
    "import pandas as pd\n",
    "import numpy as np\n",
    "import matplotlib.pyplot as plt\n",
    "import seaborn as sns\n",
    "import re\n",
    "%matplotlib inline\n",
    "from langdetect import detect\n",
    "import  fuzzywuzzy.fuzz as fuzz\n",
    "import time\n",
    "from langdetect import detect"
   ]
  },
  {
   "cell_type": "code",
   "execution_count": 3,
   "metadata": {},
   "outputs": [],
   "source": [
    "import pandas as pd"
   ]
  },
  {
   "cell_type": "code",
   "execution_count": 4,
   "metadata": {},
   "outputs": [
    {
     "name": "stdout",
     "output_type": "stream",
     "text": [
      "       Srno                                         RecipeName  \\\n",
      "0         1                               Masala Karela Recipe   \n",
      "1         2  टमाटर पुलियोगरे रेसिपी - Spicy Tomato Rice (Re...   \n",
      "2         3  Ragi Semiya Upma Recipe - Ragi Millet Vermicel...   \n",
      "3         4  Gongura Chicken Curry Recipe - Andhra Style Go...   \n",
      "4         5  आंध्रा स्टाइल आलम पचड़ी रेसिपी - Adrak Chutney ...   \n",
      "...     ...                                                ...   \n",
      "6866  14073  गोअन मशरुम जकुटी रेसिपी - Goan Mushroom Xacuti...   \n",
      "6867  14107  शकरकंदी और मेथी का पराठा रेसिपी - Sweet Potato...   \n",
      "6868  14165      Ullikadala Pulusu Recipe | Spring Onion Curry   \n",
      "6869  14167  Kashmiri Style Kokur Yakhni Recipe-Chicken Coo...   \n",
      "6870  14211              नवरंग दाल रेसिपी - Navrang Dal Recipe   \n",
      "\n",
      "                                   TranslatedRecipeName  \\\n",
      "0                                  Masala Karela Recipe   \n",
      "1                            Spicy Tomato Rice (Recipe)   \n",
      "2     Ragi Semiya Upma Recipe - Ragi Millet Vermicel...   \n",
      "3     Gongura Chicken Curry Recipe - Andhra Style Go...   \n",
      "4     Andhra Style Alam Pachadi Recipe - Adrak Chutn...   \n",
      "...                                                 ...   \n",
      "6866                        Goan Mushroom Xacuti Recipe   \n",
      "6867        Sweet Potato & Methi Stuffed Paratha Recipe   \n",
      "6868      Ullikadala Pulusu Recipe | Spring Onion Curry   \n",
      "6869  Kashmiri Style Kokur Yakhni Recipe-Chicken Coo...   \n",
      "6870                                 Navrang Dal Recipe   \n",
      "\n",
      "                                            Ingredients  \\\n",
      "0     6 Karela (Bitter Gourd/ Pavakkai) - deseeded,S...   \n",
      "1     2-1/2 कप चावल - पका ले,3 टमाटर,3 छोटा चमच्च बी...   \n",
      "2     1-1/2 cups Rice Vermicelli Noodles (Thin),1 On...   \n",
      "3     500 grams Chicken,2 Onion - chopped,1 Tomato -...   \n",
      "4     1 बड़ा चमच्च चना दाल,1 बड़ा चमच्च सफ़ेद उरद दाल,2...   \n",
      "...                                                 ...   \n",
      "6866  20 बटन मशरुम,2 प्याज - काट ले,1 टमाटर - बारीक ...   \n",
      "6867  1 बड़ा चम्मच तेल,1 कप गेहूं का आटा,नमक - स्वाद ...   \n",
      "6868  150 grams Spring Onion (Bulb & Greens) - chopp...   \n",
      "6869  1 kg Chicken - medium pieces,1/2 cup Mustard o...   \n",
      "6870  2 बड़े चम्मच हरी मूंग दाल,2 बड़े चम्मच सफ़ेद उरद ...   \n",
      "\n",
      "                                  TranslatedIngredients  PrepTimeInMins  \\\n",
      "0     6 Karela (Bitter Gourd/ Pavakkai) - deseeded,S...              15   \n",
      "1     2-1 / 2 cups rice - cooked, 3 tomatoes, 3 teas...               5   \n",
      "2     1-1/2 cups Rice Vermicelli Noodles (Thin),1 On...              20   \n",
      "3     500 grams Chicken,2 Onion - chopped,1 Tomato -...              15   \n",
      "4     1 tablespoon chana dal, 1 tablespoon white ura...              10   \n",
      "...                                                 ...             ...   \n",
      "6866  20 बटन मशरुम,2 प्याज - काट ले,1 टमाटर - बारीक ...              15   \n",
      "6867  1 बड़ा चम्मच तेल,1 कप गेहूं का आटा,नमक - स्वाद ...              30   \n",
      "6868  150 grams Spring Onion (Bulb & Greens) - chopp...               5   \n",
      "6869  1 kg Chicken - medium pieces,1/2 cup Mustard o...              30   \n",
      "6870  2 बड़े चम्मच हरी मूंग दाल,2 बड़े चम्मच सफ़ेद उरद ...              10   \n",
      "\n",
      "      CookTimeInMins  TotalTimeInMins  Servings               Cuisine  \\\n",
      "0                 30               45         6                Indian   \n",
      "1                 10               15         3  South Indian Recipes   \n",
      "2                 30               50         4  South Indian Recipes   \n",
      "3                 30               45         4                Andhra   \n",
      "4                 20               30         4                Andhra   \n",
      "...              ...              ...       ...                   ...   \n",
      "6866              45               60         4          Goan Recipes   \n",
      "6867              60               90         4  North Indian Recipes   \n",
      "6868              10               15         2                Andhra   \n",
      "6869              45               75         4              Kashmiri   \n",
      "6870              30               40         4  North Indian Recipes   \n",
      "\n",
      "                      Course                     Diet  \\\n",
      "0                  Side Dish        Diabetic Friendly   \n",
      "1                Main Course               Vegetarian   \n",
      "2     South Indian Breakfast  High Protein Vegetarian   \n",
      "3                      Lunch           Non Vegeterian   \n",
      "4     South Indian Breakfast               Vegetarian   \n",
      "...                      ...                      ...   \n",
      "6866                   Lunch               Vegetarian   \n",
      "6867  North Indian Breakfast        Diabetic Friendly   \n",
      "6868               Side Dish               Vegetarian   \n",
      "6869                   Lunch           Non Vegeterian   \n",
      "6870                   Lunch  High Protein Vegetarian   \n",
      "\n",
      "                                           Instructions  \\\n",
      "0     To begin making the Masala Karela Recipe,de-se...   \n",
      "1     टमाटर पुलियोगरे बनाने के लिए सबसे पहले टमाटर क...   \n",
      "2     To begin making the Ragi Vermicelli Recipe, fi...   \n",
      "3     To begin making Gongura Chicken Curry Recipe f...   \n",
      "4     आंध्रा स्टाइल आलम पचड़ी बनाने के लिए सबसे पहले ...   \n",
      "...                                                 ...   \n",
      "6866  गोअन मशरुम जकुटी रेसिपी बनाने के लिए सबसे पहले...   \n",
      "6867  शकरकंदी और मेथी का पराठा रेसिपी बनाने के लिए स...   \n",
      "6868  To begin making Ullikadala Pulusu Recipe | Spr...   \n",
      "6869  To begin making the Kashmiri Kokur Yakhni reci...   \n",
      "6870  नवरंग दाल रेसिपी  बनाने के लिए सबसे पहले सारी ...   \n",
      "\n",
      "                                 TranslatedInstructions  \\\n",
      "0     To begin making the Masala Karela Recipe,de-se...   \n",
      "1     To make tomato puliogere, first cut the tomato...   \n",
      "2     To begin making the Ragi Vermicelli Recipe, fi...   \n",
      "3     To begin making Gongura Chicken Curry Recipe f...   \n",
      "4     To make Andhra Style Alam Pachadi, first heat ...   \n",
      "...                                                 ...   \n",
      "6866  गोअन मशरुम जकुटी रेसिपी बनाने के लिए सबसे पहले...   \n",
      "6867  शकरकंदी और मेथी का पराठा रेसिपी बनाने के लिए स...   \n",
      "6868  To begin making Ullikadala Pulusu Recipe | Spr...   \n",
      "6869  To begin making the Kashmiri Kokur Yakhni reci...   \n",
      "6870  नवरंग दाल रेसिपी  बनाने के लिए सबसे पहले सारी ...   \n",
      "\n",
      "                                                    URL  \n",
      "0     https://www.archanaskitchen.com/masala-karela-...  \n",
      "1     http://www.archanaskitchen.com/spicy-tomato-ri...  \n",
      "2     http://www.archanaskitchen.com/ragi-vermicelli...  \n",
      "3     http://www.archanaskitchen.com/gongura-chicken...  \n",
      "4     https://www.archanaskitchen.com/andhra-style-a...  \n",
      "...                                                 ...  \n",
      "6866  https://www.archanaskitchen.com/goan-mushroom-...  \n",
      "6867  https://www.archanaskitchen.com/sweet-potato-m...  \n",
      "6868  https://www.archanaskitchen.com/ullikadala-pul...  \n",
      "6869  http://www.archanaskitchen.com/kashmiri-kokur-...  \n",
      "6870  https://www.archanaskitchen.com/navrang-dal-re...  \n",
      "\n",
      "[6871 rows x 15 columns]\n"
     ]
    }
   ],
   "source": [
    "df=pd.read_csv(\"IndianFoodDatasetCSV.csv\")\n",
    "pd.set_option('display.max_rows', 500)\n",
    "print(df)"
   ]
  },
  {
   "cell_type": "code",
   "execution_count": 6,
   "metadata": {},
   "outputs": [],
   "source": [
    "df.drop([\"RecipeName\",\"Ingredients\",\"Instructions\"],axis=1,inplace=True)\n",
    "df.dropna(inplace=True)\n",
    "df.reset_index(drop=True,inplace=True)"
   ]
  },
  {
   "cell_type": "code",
   "execution_count": 7,
   "metadata": {},
   "outputs": [
    {
     "name": "stdout",
     "output_type": "stream",
     "text": [
      "33.0801568031311\n"
     ]
    }
   ],
   "source": [
    "start=time.time()\n",
    "df[\"lang\"]=df[\"TranslatedIngredients\"].apply(lambda x:detect(x))\n",
    "end = time.time()\n",
    "print(end - start)      "
   ]
  },
  {
   "cell_type": "code",
   "execution_count": 8,
   "metadata": {},
   "outputs": [],
   "source": [
    "df=df[df[\"lang\"]==\"en\"]"
   ]
  },
  {
   "cell_type": "code",
   "execution_count": 9,
   "metadata": {},
   "outputs": [
    {
     "data": {
      "text/plain": [
       "lang\n",
       "en    6276\n",
       "Name: count, dtype: int64"
      ]
     },
     "execution_count": 9,
     "metadata": {},
     "output_type": "execute_result"
    }
   ],
   "source": [
    "df[\"lang\"].value_counts()"
   ]
  },
  {
   "cell_type": "code",
   "execution_count": 10,
   "metadata": {},
   "outputs": [],
   "source": [
    "df.to_csv('df-lan.csv',index=False)"
   ]
  },
  {
   "cell_type": "code",
   "execution_count": 11,
   "metadata": {},
   "outputs": [],
   "source": [
    "df=pd.read_csv(\"df-lan.csv\")"
   ]
  },
  {
   "cell_type": "code",
   "execution_count": 12,
   "metadata": {},
   "outputs": [],
   "source": [
    "def preprocess(text):\n",
    "    text=re.sub(r'[0-9]+', '', text)\n",
    "    delword=\"Teaspoon,teaspoon,teaspoons,-,/,to taste,as needed,shredded,cup,cups,washed,sliced,finely,few,chopped,tablespoons,\\\n",
    "    Fresh,optional,peeled ,Cubed,for garnishing,garnishing,grams,washed, finely chopped,chopped,frying,tablespoon,deseeded,thinly,\\\n",
    "    ,smearing,as per taste,as required, vegans can eliminate this ingredient, roasted,coarsely pounded,\\\n",
    "    ,required,plain,diced,minced,mixed with warm milk,boiled,steamed,as per taste,grated,made into paste,,cooked,\\\n",
    "    taste,(remove seeds fibre any),(Whole),peel cut into rings,(fine variety),cleaned,but recommended,(leftover water from washing rice)\\\n",
    "    to cook,quartered\"\n",
    "    \n",
    "    stopwords = {'and','as','if','it','at','is','or',\"gm\",\"for\",\"ml\",\"whole\"}\n",
    "    \n",
    "    for i in delword.split(\",\"):\n",
    "        text = text.replace(i, '')\n",
    "    text = re.sub(r'\\s+', ' ', text)\n",
    "    text= re.sub('(\\\\b[A-Za-z] \\\\b|\\\\b [A-Za-z]\\\\b)', '', text)\n",
    "    text=' '.join(filter(lambda x: x.lower() not in stopwords,  text.split()))\n",
    "    return text"
   ]
  },
  {
   "cell_type": "code",
   "execution_count": 13,
   "metadata": {},
   "outputs": [],
   "source": [
    "df1=df.copy()"
   ]
  },
  {
   "cell_type": "code",
   "execution_count": 14,
   "metadata": {},
   "outputs": [],
   "source": [
    "df1[\"P-Ingredients\"]=df1[\"TranslatedIngredients\"].apply(preprocess)"
   ]
  },
  {
   "cell_type": "code",
   "execution_count": null,
   "metadata": {},
   "outputs": [],
   "source": []
  },
  {
   "cell_type": "code",
   "execution_count": 15,
   "metadata": {},
   "outputs": [],
   "source": [
    "import random\n",
    "def rd():\n",
    "    i=random.randint(0,6321)\n",
    "    x=df1.loc[i,\"P-Ingredients\"]\n",
    "    print(x)\n",
    "    print(i)\n",
    "    return x"
   ]
  },
  {
   "cell_type": "code",
   "execution_count": 16,
   "metadata": {},
   "outputs": [
    {
     "name": "stdout",
     "output_type": "stream",
     "text": [
      "Hara Chana soaked overnight in water, Ginger Garlic Paste, Cumin powder (Jeera), Turmeric powder (Haldi), Garam masala powder, Green Chillies , Mango (Raw) , Spinach , Mint Leaves (Pudina), Coriander (Dhania) Leaves, Gram flour (besan),Salt\n",
      "5331\n"
     ]
    }
   ],
   "source": [
    "tester=rd()"
   ]
  },
  {
   "cell_type": "code",
   "execution_count": 17,
   "metadata": {},
   "outputs": [],
   "source": [
    "df1[\"flag\"]=0"
   ]
  },
  {
   "cell_type": "code",
   "execution_count": 18,
   "metadata": {},
   "outputs": [
    {
     "data": {
      "text/plain": [
       "26"
      ]
     },
     "execution_count": 18,
     "metadata": {},
     "output_type": "execute_result"
    }
   ],
   "source": [
    "user_ingredients='Gram flour, Curd , Green Chillies made into paste, Lemon juice, Enos fruit salt,Salt , Sunflower Oil, Mustard seeds, Cumin seeds (Jeera), Asafoetida (hing), Green Chillies, Red Chilli powder, Turmeric powder, Jaggery,Salt  , Sunflower Oil, Mustard seeds, Cumin seeds, Asafoetida , Green Chillies, Red Chilli powder, Turmeric, Jaggery , Tamarind ,Salt , Coriander '\n",
    "len(user_ingredients.split(\",\"))"
   ]
  },
  {
   "cell_type": "code",
   "execution_count": 19,
   "metadata": {},
   "outputs": [],
   "source": [
    "df1.reset_index(drop=True,inplace=True)"
   ]
  },
  {
   "cell_type": "code",
   "execution_count": 20,
   "metadata": {},
   "outputs": [
    {
     "name": "stdout",
     "output_type": "stream",
     "text": [
      "<class 'pandas.core.frame.DataFrame'>\n",
      "RangeIndex: 6276 entries, 0 to 6275\n",
      "Data columns (total 15 columns):\n",
      " #   Column                  Non-Null Count  Dtype \n",
      "---  ------                  --------------  ----- \n",
      " 0   Srno                    6276 non-null   int64 \n",
      " 1   TranslatedRecipeName    6276 non-null   object\n",
      " 2   TranslatedIngredients   6276 non-null   object\n",
      " 3   PrepTimeInMins          6276 non-null   int64 \n",
      " 4   CookTimeInMins          6276 non-null   int64 \n",
      " 5   TotalTimeInMins         6276 non-null   int64 \n",
      " 6   Servings                6276 non-null   int64 \n",
      " 7   Cuisine                 6276 non-null   object\n",
      " 8   Course                  6276 non-null   object\n",
      " 9   Diet                    6276 non-null   object\n",
      " 10  TranslatedInstructions  6276 non-null   object\n",
      " 11  URL                     6276 non-null   object\n",
      " 12  lang                    6276 non-null   object\n",
      " 13  P-Ingredients           6276 non-null   object\n",
      " 14  flag                    6276 non-null   int64 \n",
      "dtypes: int64(6), object(9)\n",
      "memory usage: 735.6+ KB\n"
     ]
    }
   ],
   "source": [
    "df1.info()"
   ]
  },
  {
   "cell_type": "code",
   "execution_count": 21,
   "metadata": {},
   "outputs": [],
   "source": [
    "rows=6269"
   ]
  },
  {
   "cell_type": "code",
   "execution_count": 22,
   "metadata": {},
   "outputs": [],
   "source": [
    "def Cook2(Pingredients):    \n",
    "        \"Comparing the Recipe Ingredients and User Ingredients and decreasing count value for each Recipe ingredient missing.\\\n",
    "        Count describes the no. of ingredients missing from user ingredients to make that recipe.\"\n",
    "        flag,count=0,0\n",
    "        for i in set(Pingredients.split(\",\")):\n",
    "            for j in  user_ingredients.split(\",\"):\n",
    "                if fuzz.token_set_ratio(i,j)>80:                    \n",
    "                    flag=1 \n",
    "                    break\n",
    "            if (flag==0):\n",
    "                count-=1\n",
    "            else:\n",
    "                flag=0\n",
    "        return count"
   ]
  },
  {
   "cell_type": "code",
   "execution_count": 23,
   "metadata": {},
   "outputs": [],
   "source": [
    "df1.reset_index(drop=True,inplace=True)"
   ]
  },
  {
   "cell_type": "code",
   "execution_count": 24,
   "metadata": {},
   "outputs": [],
   "source": [
    "df1.drop([5743,5173,4846,4125,3766,422,80,442,583,4994,5466,5463,5440,5383,5374,4994,1571,3311,3222,2305,1571,605,423],inplace=True)"
   ]
  },
  {
   "cell_type": "code",
   "execution_count": 25,
   "metadata": {},
   "outputs": [],
   "source": [
    "df.reset_index(drop=True,inplace=True)"
   ]
  },
  {
   "cell_type": "code",
   "execution_count": 26,
   "metadata": {},
   "outputs": [],
   "source": [
    "df1.to_csv('df-en-processed.csv',index=False)"
   ]
  },
  {
   "cell_type": "markdown",
   "metadata": {},
   "source": [
    "To Preprocess Instructions"
   ]
  },
  {
   "cell_type": "code",
   "execution_count": 27,
   "metadata": {},
   "outputs": [],
   "source": [
    "df=pd.read_csv(\"df-en-processed.csv\")"
   ]
  },
  {
   "cell_type": "code",
   "execution_count": 28,
   "metadata": {},
   "outputs": [
    {
     "data": {
      "text/html": [
       "<div>\n",
       "<style scoped>\n",
       "    .dataframe tbody tr th:only-of-type {\n",
       "        vertical-align: middle;\n",
       "    }\n",
       "\n",
       "    .dataframe tbody tr th {\n",
       "        vertical-align: top;\n",
       "    }\n",
       "\n",
       "    .dataframe thead th {\n",
       "        text-align: right;\n",
       "    }\n",
       "</style>\n",
       "<table border=\"1\" class=\"dataframe\">\n",
       "  <thead>\n",
       "    <tr style=\"text-align: right;\">\n",
       "      <th></th>\n",
       "      <th>Srno</th>\n",
       "      <th>TranslatedRecipeName</th>\n",
       "      <th>TranslatedIngredients</th>\n",
       "      <th>PrepTimeInMins</th>\n",
       "      <th>CookTimeInMins</th>\n",
       "      <th>TotalTimeInMins</th>\n",
       "      <th>Servings</th>\n",
       "      <th>Cuisine</th>\n",
       "      <th>Course</th>\n",
       "      <th>Diet</th>\n",
       "      <th>TranslatedInstructions</th>\n",
       "      <th>URL</th>\n",
       "      <th>lang</th>\n",
       "      <th>P-Ingredients</th>\n",
       "      <th>flag</th>\n",
       "    </tr>\n",
       "  </thead>\n",
       "  <tbody>\n",
       "    <tr>\n",
       "      <th>0</th>\n",
       "      <td>1</td>\n",
       "      <td>Masala Karela Recipe</td>\n",
       "      <td>6 Karela (Bitter Gourd/ Pavakkai) - deseeded,S...</td>\n",
       "      <td>15</td>\n",
       "      <td>30</td>\n",
       "      <td>45</td>\n",
       "      <td>6</td>\n",
       "      <td>Indian</td>\n",
       "      <td>Side Dish</td>\n",
       "      <td>Diabetic Friendly</td>\n",
       "      <td>To begin making the Masala Karela Recipe,de-se...</td>\n",
       "      <td>https://www.archanaskitchen.com/masala-karela-...</td>\n",
       "      <td>en</td>\n",
       "      <td>Karela (Bitter Gourd Pavakkai) ,Salt , Onion ,...</td>\n",
       "      <td>0</td>\n",
       "    </tr>\n",
       "    <tr>\n",
       "      <th>1</th>\n",
       "      <td>2</td>\n",
       "      <td>Spicy Tomato Rice (Recipe)</td>\n",
       "      <td>2-1 / 2 cups rice - cooked, 3 tomatoes, 3 teas...</td>\n",
       "      <td>5</td>\n",
       "      <td>10</td>\n",
       "      <td>15</td>\n",
       "      <td>3</td>\n",
       "      <td>South Indian Recipes</td>\n",
       "      <td>Main Course</td>\n",
       "      <td>Vegetarian</td>\n",
       "      <td>To make tomato puliogere, first cut the tomato...</td>\n",
       "      <td>http://www.archanaskitchen.com/spicy-tomato-ri...</td>\n",
       "      <td>en</td>\n",
       "      <td>rice , tomatoes, BC Belle Bhat powder, salt , ...</td>\n",
       "      <td>0</td>\n",
       "    </tr>\n",
       "    <tr>\n",
       "      <th>2</th>\n",
       "      <td>3</td>\n",
       "      <td>Ragi Semiya Upma Recipe - Ragi Millet Vermicel...</td>\n",
       "      <td>1-1/2 cups Rice Vermicelli Noodles (Thin),1 On...</td>\n",
       "      <td>20</td>\n",
       "      <td>30</td>\n",
       "      <td>50</td>\n",
       "      <td>4</td>\n",
       "      <td>South Indian Recipes</td>\n",
       "      <td>South Indian Breakfast</td>\n",
       "      <td>High Protein Vegetarian</td>\n",
       "      <td>To begin making the Ragi Vermicelli Recipe, fi...</td>\n",
       "      <td>http://www.archanaskitchen.com/ragi-vermicelli...</td>\n",
       "      <td>en</td>\n",
       "      <td>Rice Vermicelli Noodles (Thin), Onion , Carrot...</td>\n",
       "      <td>0</td>\n",
       "    </tr>\n",
       "    <tr>\n",
       "      <th>3</th>\n",
       "      <td>4</td>\n",
       "      <td>Gongura Chicken Curry Recipe - Andhra Style Go...</td>\n",
       "      <td>500 grams Chicken,2 Onion - chopped,1 Tomato -...</td>\n",
       "      <td>15</td>\n",
       "      <td>30</td>\n",
       "      <td>45</td>\n",
       "      <td>4</td>\n",
       "      <td>Andhra</td>\n",
       "      <td>Lunch</td>\n",
       "      <td>Non Vegeterian</td>\n",
       "      <td>To begin making Gongura Chicken Curry Recipe f...</td>\n",
       "      <td>http://www.archanaskitchen.com/gongura-chicken...</td>\n",
       "      <td>en</td>\n",
       "      <td>Chicken, Onion , Tomato , Green Chillies slit,...</td>\n",
       "      <td>0</td>\n",
       "    </tr>\n",
       "    <tr>\n",
       "      <th>4</th>\n",
       "      <td>5</td>\n",
       "      <td>Andhra Style Alam Pachadi Recipe - Adrak Chutn...</td>\n",
       "      <td>1 tablespoon chana dal, 1 tablespoon white ura...</td>\n",
       "      <td>10</td>\n",
       "      <td>20</td>\n",
       "      <td>30</td>\n",
       "      <td>4</td>\n",
       "      <td>Andhra</td>\n",
       "      <td>South Indian Breakfast</td>\n",
       "      <td>Vegetarian</td>\n",
       "      <td>To make Andhra Style Alam Pachadi, first heat ...</td>\n",
       "      <td>https://www.archanaskitchen.com/andhra-style-a...</td>\n",
       "      <td>en</td>\n",
       "      <td>chana dal, white urad dal, red chillies, coria...</td>\n",
       "      <td>0</td>\n",
       "    </tr>\n",
       "  </tbody>\n",
       "</table>\n",
       "</div>"
      ],
      "text/plain": [
       "   Srno                               TranslatedRecipeName  \\\n",
       "0     1                               Masala Karela Recipe   \n",
       "1     2                         Spicy Tomato Rice (Recipe)   \n",
       "2     3  Ragi Semiya Upma Recipe - Ragi Millet Vermicel...   \n",
       "3     4  Gongura Chicken Curry Recipe - Andhra Style Go...   \n",
       "4     5  Andhra Style Alam Pachadi Recipe - Adrak Chutn...   \n",
       "\n",
       "                               TranslatedIngredients  PrepTimeInMins  \\\n",
       "0  6 Karela (Bitter Gourd/ Pavakkai) - deseeded,S...              15   \n",
       "1  2-1 / 2 cups rice - cooked, 3 tomatoes, 3 teas...               5   \n",
       "2  1-1/2 cups Rice Vermicelli Noodles (Thin),1 On...              20   \n",
       "3  500 grams Chicken,2 Onion - chopped,1 Tomato -...              15   \n",
       "4  1 tablespoon chana dal, 1 tablespoon white ura...              10   \n",
       "\n",
       "   CookTimeInMins  TotalTimeInMins  Servings               Cuisine  \\\n",
       "0              30               45         6                Indian   \n",
       "1              10               15         3  South Indian Recipes   \n",
       "2              30               50         4  South Indian Recipes   \n",
       "3              30               45         4                Andhra   \n",
       "4              20               30         4                Andhra   \n",
       "\n",
       "                   Course                     Diet  \\\n",
       "0               Side Dish        Diabetic Friendly   \n",
       "1             Main Course               Vegetarian   \n",
       "2  South Indian Breakfast  High Protein Vegetarian   \n",
       "3                   Lunch           Non Vegeterian   \n",
       "4  South Indian Breakfast               Vegetarian   \n",
       "\n",
       "                              TranslatedInstructions  \\\n",
       "0  To begin making the Masala Karela Recipe,de-se...   \n",
       "1  To make tomato puliogere, first cut the tomato...   \n",
       "2  To begin making the Ragi Vermicelli Recipe, fi...   \n",
       "3  To begin making Gongura Chicken Curry Recipe f...   \n",
       "4  To make Andhra Style Alam Pachadi, first heat ...   \n",
       "\n",
       "                                                 URL lang  \\\n",
       "0  https://www.archanaskitchen.com/masala-karela-...   en   \n",
       "1  http://www.archanaskitchen.com/spicy-tomato-ri...   en   \n",
       "2  http://www.archanaskitchen.com/ragi-vermicelli...   en   \n",
       "3  http://www.archanaskitchen.com/gongura-chicken...   en   \n",
       "4  https://www.archanaskitchen.com/andhra-style-a...   en   \n",
       "\n",
       "                                       P-Ingredients  flag  \n",
       "0  Karela (Bitter Gourd Pavakkai) ,Salt , Onion ,...     0  \n",
       "1  rice , tomatoes, BC Belle Bhat powder, salt , ...     0  \n",
       "2  Rice Vermicelli Noodles (Thin), Onion , Carrot...     0  \n",
       "3  Chicken, Onion , Tomato , Green Chillies slit,...     0  \n",
       "4  chana dal, white urad dal, red chillies, coria...     0  "
      ]
     },
     "execution_count": 28,
     "metadata": {},
     "output_type": "execute_result"
    }
   ],
   "source": [
    "df.head()"
   ]
  },
  {
   "cell_type": "code",
   "execution_count": 36,
   "metadata": {},
   "outputs": [],
   "source": [
    "im=pd.read_csv(\"images.csv\")"
   ]
  },
  {
   "cell_type": "code",
   "execution_count": 37,
   "metadata": {},
   "outputs": [
    {
     "data": {
      "text/html": [
       "<div>\n",
       "<style scoped>\n",
       "    .dataframe tbody tr th:only-of-type {\n",
       "        vertical-align: middle;\n",
       "    }\n",
       "\n",
       "    .dataframe tbody tr th {\n",
       "        vertical-align: top;\n",
       "    }\n",
       "\n",
       "    .dataframe thead th {\n",
       "        text-align: right;\n",
       "    }\n",
       "</style>\n",
       "<table border=\"1\" class=\"dataframe\">\n",
       "  <thead>\n",
       "    <tr style=\"text-align: right;\">\n",
       "      <th></th>\n",
       "      <th>image</th>\n",
       "      <th>url</th>\n",
       "    </tr>\n",
       "  </thead>\n",
       "  <tbody>\n",
       "    <tr>\n",
       "      <th>0</th>\n",
       "      <td>https://www.archanaskitchen.com/images/archana...</td>\n",
       "      <td>https://www.archanaskitchen.com/masala-karela-...</td>\n",
       "    </tr>\n",
       "    <tr>\n",
       "      <th>1</th>\n",
       "      <td>https://www.archanaskitchen.com/images/archana...</td>\n",
       "      <td>https://www.archanaskitchen.com/spicy-tomato-r...</td>\n",
       "    </tr>\n",
       "    <tr>\n",
       "      <th>2</th>\n",
       "      <td>https://www.archanaskitchen.com/images/archana...</td>\n",
       "      <td>https://www.archanaskitchen.com/ragi-vermicell...</td>\n",
       "    </tr>\n",
       "    <tr>\n",
       "      <th>3</th>\n",
       "      <td>https://www.archanaskitchen.com/images/archana...</td>\n",
       "      <td>https://www.archanaskitchen.com/gongura-chicke...</td>\n",
       "    </tr>\n",
       "    <tr>\n",
       "      <th>4</th>\n",
       "      <td>https://www.archanaskitchen.com/images/archana...</td>\n",
       "      <td>https://www.archanaskitchen.com/andhra-style-a...</td>\n",
       "    </tr>\n",
       "  </tbody>\n",
       "</table>\n",
       "</div>"
      ],
      "text/plain": [
       "                                               image  \\\n",
       "0  https://www.archanaskitchen.com/images/archana...   \n",
       "1  https://www.archanaskitchen.com/images/archana...   \n",
       "2  https://www.archanaskitchen.com/images/archana...   \n",
       "3  https://www.archanaskitchen.com/images/archana...   \n",
       "4  https://www.archanaskitchen.com/images/archana...   \n",
       "\n",
       "                                                 url  \n",
       "0  https://www.archanaskitchen.com/masala-karela-...  \n",
       "1  https://www.archanaskitchen.com/spicy-tomato-r...  \n",
       "2  https://www.archanaskitchen.com/ragi-vermicell...  \n",
       "3  https://www.archanaskitchen.com/gongura-chicke...  \n",
       "4  https://www.archanaskitchen.com/andhra-style-a...  "
      ]
     },
     "execution_count": 37,
     "metadata": {},
     "output_type": "execute_result"
    }
   ],
   "source": [
    "im.head()"
   ]
  },
  {
   "cell_type": "code",
   "execution_count": 48,
   "metadata": {},
   "outputs": [],
   "source": [
    "df[\"image-url\"]=im[\"image\"]"
   ]
  },
  {
   "cell_type": "code",
   "execution_count": 49,
   "metadata": {},
   "outputs": [],
   "source": [
    "df[\"URL\"]=im[\"url\"]"
   ]
  },
  {
   "cell_type": "code",
   "execution_count": 68,
   "metadata": {},
   "outputs": [
    {
     "data": {
      "text/plain": [
       "(6255, 17)"
      ]
     },
     "execution_count": 68,
     "metadata": {},
     "output_type": "execute_result"
    }
   ],
   "source": [
    "df.shape"
   ]
  },
  {
   "cell_type": "code",
   "execution_count": 69,
   "metadata": {},
   "outputs": [
    {
     "data": {
      "text/plain": [
       "(5951, 2)"
      ]
     },
     "execution_count": 69,
     "metadata": {},
     "output_type": "execute_result"
    }
   ],
   "source": [
    "im.shape"
   ]
  },
  {
   "cell_type": "code",
   "execution_count": 50,
   "metadata": {},
   "outputs": [
    {
     "data": {
      "text/html": [
       "<div>\n",
       "<style scoped>\n",
       "    .dataframe tbody tr th:only-of-type {\n",
       "        vertical-align: middle;\n",
       "    }\n",
       "\n",
       "    .dataframe tbody tr th {\n",
       "        vertical-align: top;\n",
       "    }\n",
       "\n",
       "    .dataframe thead th {\n",
       "        text-align: right;\n",
       "    }\n",
       "</style>\n",
       "<table border=\"1\" class=\"dataframe\">\n",
       "  <thead>\n",
       "    <tr style=\"text-align: right;\">\n",
       "      <th></th>\n",
       "      <th>Srno</th>\n",
       "      <th>TranslatedRecipeName</th>\n",
       "      <th>TranslatedIngredients</th>\n",
       "      <th>PrepTimeInMins</th>\n",
       "      <th>CookTimeInMins</th>\n",
       "      <th>TotalTimeInMins</th>\n",
       "      <th>Servings</th>\n",
       "      <th>Cuisine</th>\n",
       "      <th>Course</th>\n",
       "      <th>Diet</th>\n",
       "      <th>TranslatedInstructions</th>\n",
       "      <th>URL</th>\n",
       "      <th>lang</th>\n",
       "      <th>P-Ingredients</th>\n",
       "      <th>flag</th>\n",
       "      <th>ParsedIngredients</th>\n",
       "      <th>image-url</th>\n",
       "    </tr>\n",
       "  </thead>\n",
       "  <tbody>\n",
       "    <tr>\n",
       "      <th>0</th>\n",
       "      <td>1</td>\n",
       "      <td>Masala Karela Recipe</td>\n",
       "      <td>6 Karela (Bitter Gourd/ Pavakkai) - deseeded,S...</td>\n",
       "      <td>15</td>\n",
       "      <td>30</td>\n",
       "      <td>45</td>\n",
       "      <td>6</td>\n",
       "      <td>Indian</td>\n",
       "      <td>Side Dish</td>\n",
       "      <td>Diabetic Friendly</td>\n",
       "      <td>To begin making the Masala Karela Recipe,de-se...</td>\n",
       "      <td>https://www.archanaskitchen.com/masala-karela-...</td>\n",
       "      <td>en</td>\n",
       "      <td>Karela (Bitter Gourd Pavakkai) ,Salt , Onion ,...</td>\n",
       "      <td>0</td>\n",
       "      <td>[{'Ingredient': 'Bitter Gourd Pavakkai', 'Quan...</td>\n",
       "      <td>https://www.archanaskitchen.com/images/archana...</td>\n",
       "    </tr>\n",
       "    <tr>\n",
       "      <th>1</th>\n",
       "      <td>2</td>\n",
       "      <td>Spicy Tomato Rice (Recipe)</td>\n",
       "      <td>2-1 / 2 cups rice - cooked, 3 tomatoes, 3 teas...</td>\n",
       "      <td>5</td>\n",
       "      <td>10</td>\n",
       "      <td>15</td>\n",
       "      <td>3</td>\n",
       "      <td>South Indian Recipes</td>\n",
       "      <td>Main Course</td>\n",
       "      <td>Vegetarian</td>\n",
       "      <td>To make tomato puliogere, first cut the tomato...</td>\n",
       "      <td>https://www.archanaskitchen.com/spicy-tomato-r...</td>\n",
       "      <td>en</td>\n",
       "      <td>rice , tomatoes, BC Belle Bhat powder, salt , ...</td>\n",
       "      <td>0</td>\n",
       "      <td>[{'Ingredient': '2 cups rice  cooked', 'Quanti...</td>\n",
       "      <td>https://www.archanaskitchen.com/images/archana...</td>\n",
       "    </tr>\n",
       "    <tr>\n",
       "      <th>2</th>\n",
       "      <td>3</td>\n",
       "      <td>Ragi Semiya Upma Recipe - Ragi Millet Vermicel...</td>\n",
       "      <td>1-1/2 cups Rice Vermicelli Noodles (Thin),1 On...</td>\n",
       "      <td>20</td>\n",
       "      <td>30</td>\n",
       "      <td>50</td>\n",
       "      <td>4</td>\n",
       "      <td>South Indian Recipes</td>\n",
       "      <td>South Indian Breakfast</td>\n",
       "      <td>High Protein Vegetarian</td>\n",
       "      <td>To begin making the Ragi Vermicelli Recipe, fi...</td>\n",
       "      <td>https://www.archanaskitchen.com/ragi-vermicell...</td>\n",
       "      <td>en</td>\n",
       "      <td>Rice Vermicelli Noodles (Thin), Onion , Carrot...</td>\n",
       "      <td>0</td>\n",
       "      <td>[{'Ingredient': 'Rice Vermicelli Noodles Thin'...</td>\n",
       "      <td>https://www.archanaskitchen.com/images/archana...</td>\n",
       "    </tr>\n",
       "    <tr>\n",
       "      <th>3</th>\n",
       "      <td>4</td>\n",
       "      <td>Gongura Chicken Curry Recipe - Andhra Style Go...</td>\n",
       "      <td>500 grams Chicken,2 Onion - chopped,1 Tomato -...</td>\n",
       "      <td>15</td>\n",
       "      <td>30</td>\n",
       "      <td>45</td>\n",
       "      <td>4</td>\n",
       "      <td>Andhra</td>\n",
       "      <td>Lunch</td>\n",
       "      <td>Non Vegeterian</td>\n",
       "      <td>To begin making Gongura Chicken Curry Recipe f...</td>\n",
       "      <td>https://www.archanaskitchen.com/gongura-chicke...</td>\n",
       "      <td>en</td>\n",
       "      <td>Chicken, Onion , Tomato , Green Chillies slit,...</td>\n",
       "      <td>0</td>\n",
       "      <td>[{'Ingredient': 'Chicken', 'Quantity': '500', ...</td>\n",
       "      <td>https://www.archanaskitchen.com/images/archana...</td>\n",
       "    </tr>\n",
       "    <tr>\n",
       "      <th>4</th>\n",
       "      <td>5</td>\n",
       "      <td>Andhra Style Alam Pachadi Recipe - Adrak Chutn...</td>\n",
       "      <td>1 tablespoon chana dal, 1 tablespoon white ura...</td>\n",
       "      <td>10</td>\n",
       "      <td>20</td>\n",
       "      <td>30</td>\n",
       "      <td>4</td>\n",
       "      <td>Andhra</td>\n",
       "      <td>South Indian Breakfast</td>\n",
       "      <td>Vegetarian</td>\n",
       "      <td>To make Andhra Style Alam Pachadi, first heat ...</td>\n",
       "      <td>https://www.archanaskitchen.com/andhra-style-a...</td>\n",
       "      <td>en</td>\n",
       "      <td>chana dal, white urad dal, red chillies, coria...</td>\n",
       "      <td>0</td>\n",
       "      <td>[{'Ingredient': 'chana dal', 'Quantity': '1', ...</td>\n",
       "      <td>https://www.archanaskitchen.com/images/archana...</td>\n",
       "    </tr>\n",
       "  </tbody>\n",
       "</table>\n",
       "</div>"
      ],
      "text/plain": [
       "   Srno                               TranslatedRecipeName  \\\n",
       "0     1                               Masala Karela Recipe   \n",
       "1     2                         Spicy Tomato Rice (Recipe)   \n",
       "2     3  Ragi Semiya Upma Recipe - Ragi Millet Vermicel...   \n",
       "3     4  Gongura Chicken Curry Recipe - Andhra Style Go...   \n",
       "4     5  Andhra Style Alam Pachadi Recipe - Adrak Chutn...   \n",
       "\n",
       "                               TranslatedIngredients  PrepTimeInMins  \\\n",
       "0  6 Karela (Bitter Gourd/ Pavakkai) - deseeded,S...              15   \n",
       "1  2-1 / 2 cups rice - cooked, 3 tomatoes, 3 teas...               5   \n",
       "2  1-1/2 cups Rice Vermicelli Noodles (Thin),1 On...              20   \n",
       "3  500 grams Chicken,2 Onion - chopped,1 Tomato -...              15   \n",
       "4  1 tablespoon chana dal, 1 tablespoon white ura...              10   \n",
       "\n",
       "   CookTimeInMins  TotalTimeInMins  Servings               Cuisine  \\\n",
       "0              30               45         6                Indian   \n",
       "1              10               15         3  South Indian Recipes   \n",
       "2              30               50         4  South Indian Recipes   \n",
       "3              30               45         4                Andhra   \n",
       "4              20               30         4                Andhra   \n",
       "\n",
       "                   Course                     Diet  \\\n",
       "0               Side Dish        Diabetic Friendly   \n",
       "1             Main Course               Vegetarian   \n",
       "2  South Indian Breakfast  High Protein Vegetarian   \n",
       "3                   Lunch           Non Vegeterian   \n",
       "4  South Indian Breakfast               Vegetarian   \n",
       "\n",
       "                              TranslatedInstructions  \\\n",
       "0  To begin making the Masala Karela Recipe,de-se...   \n",
       "1  To make tomato puliogere, first cut the tomato...   \n",
       "2  To begin making the Ragi Vermicelli Recipe, fi...   \n",
       "3  To begin making Gongura Chicken Curry Recipe f...   \n",
       "4  To make Andhra Style Alam Pachadi, first heat ...   \n",
       "\n",
       "                                                 URL lang  \\\n",
       "0  https://www.archanaskitchen.com/masala-karela-...   en   \n",
       "1  https://www.archanaskitchen.com/spicy-tomato-r...   en   \n",
       "2  https://www.archanaskitchen.com/ragi-vermicell...   en   \n",
       "3  https://www.archanaskitchen.com/gongura-chicke...   en   \n",
       "4  https://www.archanaskitchen.com/andhra-style-a...   en   \n",
       "\n",
       "                                       P-Ingredients  flag  \\\n",
       "0  Karela (Bitter Gourd Pavakkai) ,Salt , Onion ,...     0   \n",
       "1  rice , tomatoes, BC Belle Bhat powder, salt , ...     0   \n",
       "2  Rice Vermicelli Noodles (Thin), Onion , Carrot...     0   \n",
       "3  Chicken, Onion , Tomato , Green Chillies slit,...     0   \n",
       "4  chana dal, white urad dal, red chillies, coria...     0   \n",
       "\n",
       "                                   ParsedIngredients  \\\n",
       "0  [{'Ingredient': 'Bitter Gourd Pavakkai', 'Quan...   \n",
       "1  [{'Ingredient': '2 cups rice  cooked', 'Quanti...   \n",
       "2  [{'Ingredient': 'Rice Vermicelli Noodles Thin'...   \n",
       "3  [{'Ingredient': 'Chicken', 'Quantity': '500', ...   \n",
       "4  [{'Ingredient': 'chana dal', 'Quantity': '1', ...   \n",
       "\n",
       "                                           image-url  \n",
       "0  https://www.archanaskitchen.com/images/archana...  \n",
       "1  https://www.archanaskitchen.com/images/archana...  \n",
       "2  https://www.archanaskitchen.com/images/archana...  \n",
       "3  https://www.archanaskitchen.com/images/archana...  \n",
       "4  https://www.archanaskitchen.com/images/archana...  "
      ]
     },
     "execution_count": 50,
     "metadata": {},
     "output_type": "execute_result"
    }
   ],
   "source": [
    "df.head()"
   ]
  },
  {
   "cell_type": "code",
   "execution_count": 64,
   "metadata": {},
   "outputs": [
    {
     "data": {
      "text/plain": [
       "image-url\n",
       "https://www.archanaskitchen.com/images/archanaskitchen/1-Author/Monika_Manchanda/Nandan_Kozhi__Kerala_Style_Chicken_Curry.jpg                                                4\n",
       "https://www.archanaskitchen.com/images/archanaskitchen/0-Archanas-Kitchen-Recipes/2016/sept-21/Peanut_Coconut_Chutney_Recipe_No_onion_No_Garlic_Fasting_Vrat_Recipe-3.jpg    3\n",
       "https://www.archanaskitchen.com/images/archanaskitchen/0-Archanas-Kitchen-Recipes/2019/Veg_Hakka_Noodles_recipe_10_1600.jpg                                                  3\n",
       "https://www.archanaskitchen.com/images/archanaskitchen/0-Affiliate-Articles/sweet_ime_soda.jpg                                                                               3\n",
       "https://www.archanaskitchen.com/images/archanaskitchen/Indian_Dal_Khadi_Curry/Dal_Palak_Recipe_Healthy_Spinach_Lentil_Curry-2.jpg                                            3\n",
       "                                                                                                                                                                            ..\n",
       "https://www.archanaskitchen.com/images/archanaskitchen/1-Author/jyothir/Ayala_Fish_Fry.jpg                                                                                   1\n",
       "https://www.archanaskitchen.com/images/archanaskitchen/0-Archanas-Kitchen-Recipes/2017/10-oct/_Kashmiri_Style_Rista_Recipe_Mutton_Kofta_Curry-9469.jpg                       1\n",
       "https://www.archanaskitchen.com/images/archanaskitchen/1-Author/Shyma_Menon/Makhana_and_Badam_Trail_Mix_Recipe_-_High_Energy_Snack-4_1600.jpg                                1\n",
       "https://www.archanaskitchen.com/images/archanaskitchen/1-Author/sibyl_sunitha/Greek_Style_Gigantes_Plaki_Recipe_Oven_Baked_Broad_Beans_with_Vegetables_Recipe.jpg            1\n",
       "https://www.archanaskitchen.com/images/archanaskitchen/1-Author/Shaheen_Ali/Kokur_Yakhni_Chicken_cooked_in_Yogurt__Kashmiri_Non_Veg.jpg                                      1\n",
       "Name: count, Length: 5666, dtype: int64"
      ]
     },
     "execution_count": 64,
     "metadata": {},
     "output_type": "execute_result"
    }
   ],
   "source": [
    "df[\"image-url\"].value_counts()"
   ]
  },
  {
   "cell_type": "code",
   "execution_count": 65,
   "metadata": {},
   "outputs": [
    {
     "data": {
      "text/html": [
       "<div>\n",
       "<style scoped>\n",
       "    .dataframe tbody tr th:only-of-type {\n",
       "        vertical-align: middle;\n",
       "    }\n",
       "\n",
       "    .dataframe tbody tr th {\n",
       "        vertical-align: top;\n",
       "    }\n",
       "\n",
       "    .dataframe thead th {\n",
       "        text-align: right;\n",
       "    }\n",
       "</style>\n",
       "<table border=\"1\" class=\"dataframe\">\n",
       "  <thead>\n",
       "    <tr style=\"text-align: right;\">\n",
       "      <th></th>\n",
       "      <th>Srno</th>\n",
       "      <th>TranslatedRecipeName</th>\n",
       "      <th>TranslatedIngredients</th>\n",
       "      <th>PrepTimeInMins</th>\n",
       "      <th>CookTimeInMins</th>\n",
       "      <th>TotalTimeInMins</th>\n",
       "      <th>Servings</th>\n",
       "      <th>Cuisine</th>\n",
       "      <th>Course</th>\n",
       "      <th>Diet</th>\n",
       "      <th>TranslatedInstructions</th>\n",
       "      <th>URL</th>\n",
       "      <th>lang</th>\n",
       "      <th>P-Ingredients</th>\n",
       "      <th>flag</th>\n",
       "      <th>ParsedIngredients</th>\n",
       "      <th>image-url</th>\n",
       "    </tr>\n",
       "  </thead>\n",
       "  <tbody>\n",
       "    <tr>\n",
       "      <th>398</th>\n",
       "      <td>431</td>\n",
       "      <td>Lauki Badi Ki Sabzi (Recipe In Hindi)</td>\n",
       "      <td>1/2 gourd - peel and chop, 1/2 cup wood, oil -...</td>\n",
       "      <td>10</td>\n",
       "      <td>20</td>\n",
       "      <td>30</td>\n",
       "      <td>3</td>\n",
       "      <td>Rajasthani</td>\n",
       "      <td>Main Course</td>\n",
       "      <td>Vegetarian</td>\n",
       "      <td>To make gourd elder greens, first roast the el...</td>\n",
       "      <td>https://www.archanaskitchen.com/kerala-chicken...</td>\n",
       "      <td>en</td>\n",
       "      <td>gourd peel chop, wood, oil curry leaves, cumin...</td>\n",
       "      <td>0</td>\n",
       "      <td>[{'Ingredient': 'peel and chop', 'Quantity': '...</td>\n",
       "      <td>https://www.archanaskitchen.com/images/archana...</td>\n",
       "    </tr>\n",
       "    <tr>\n",
       "      <th>2228</th>\n",
       "      <td>2801</td>\n",
       "      <td>Tawa Tandoori Roti Recipe</td>\n",
       "      <td>2 cups Whole Wheat Flour,1/4 cup Curd (Dahi / ...</td>\n",
       "      <td>30</td>\n",
       "      <td>30</td>\n",
       "      <td>60</td>\n",
       "      <td>4</td>\n",
       "      <td>North Indian Recipes</td>\n",
       "      <td>Lunch</td>\n",
       "      <td>Vegetarian</td>\n",
       "      <td>To begin making the Tawa Tandoori Roti Recipe,...</td>\n",
       "      <td>https://www.archanaskitchen.com/kerala-chicken...</td>\n",
       "      <td>en</td>\n",
       "      <td>Wheat Flour, Curd (Dahi Yogurt),Salt ,Sunflowe...</td>\n",
       "      <td>0</td>\n",
       "      <td>[{'Ingredient': 'Whole Wheat Flour', 'Quantity...</td>\n",
       "      <td>https://www.archanaskitchen.com/images/archana...</td>\n",
       "    </tr>\n",
       "    <tr>\n",
       "      <th>3353</th>\n",
       "      <td>4643</td>\n",
       "      <td>Paneer Malai Makhani Biryani Recipe</td>\n",
       "      <td>1 cup Basmati rice,4 teaspoon Ghee,2 teaspoon ...</td>\n",
       "      <td>30</td>\n",
       "      <td>40</td>\n",
       "      <td>70</td>\n",
       "      <td>4</td>\n",
       "      <td>Indian</td>\n",
       "      <td>Dinner</td>\n",
       "      <td>High Protein Vegetarian</td>\n",
       "      <td>To begin making the Paneer Malai Makhani Birya...</td>\n",
       "      <td>https://www.archanaskitchen.com/nandan-kozhi-r...</td>\n",
       "      <td>en</td>\n",
       "      <td>Basmati rice, Ghee, Ginger Garlic Paste, Onion...</td>\n",
       "      <td>0</td>\n",
       "      <td>[{'Ingredient': 'Basmati rice', 'Quantity': '1...</td>\n",
       "      <td>https://www.archanaskitchen.com/images/archana...</td>\n",
       "    </tr>\n",
       "    <tr>\n",
       "      <th>3356</th>\n",
       "      <td>4648</td>\n",
       "      <td>Andhra Style Sorakaya Kura Recipe - Bottle Gou...</td>\n",
       "      <td>2 cups Bottle gourd (lauki) - cut into small p...</td>\n",
       "      <td>10</td>\n",
       "      <td>25</td>\n",
       "      <td>35</td>\n",
       "      <td>4</td>\n",
       "      <td>Andhra</td>\n",
       "      <td>Lunch</td>\n",
       "      <td>Vegetarian</td>\n",
       "      <td>To begin making the Sorakaya Kura Recipe we wi...</td>\n",
       "      <td>https://www.archanaskitchen.com/kerala-chicken...</td>\n",
       "      <td>en</td>\n",
       "      <td>Bottle gourd (lauki) cut into small pieces, Ar...</td>\n",
       "      <td>0</td>\n",
       "      <td>[{'Ingredient': 'Bottle gourd lauki  cut into ...</td>\n",
       "      <td>https://www.archanaskitchen.com/images/archana...</td>\n",
       "    </tr>\n",
       "  </tbody>\n",
       "</table>\n",
       "</div>"
      ],
      "text/plain": [
       "      Srno                               TranslatedRecipeName  \\\n",
       "398    431              Lauki Badi Ki Sabzi (Recipe In Hindi)   \n",
       "2228  2801                          Tawa Tandoori Roti Recipe   \n",
       "3353  4643                Paneer Malai Makhani Biryani Recipe   \n",
       "3356  4648  Andhra Style Sorakaya Kura Recipe - Bottle Gou...   \n",
       "\n",
       "                                  TranslatedIngredients  PrepTimeInMins  \\\n",
       "398   1/2 gourd - peel and chop, 1/2 cup wood, oil -...              10   \n",
       "2228  2 cups Whole Wheat Flour,1/4 cup Curd (Dahi / ...              30   \n",
       "3353  1 cup Basmati rice,4 teaspoon Ghee,2 teaspoon ...              30   \n",
       "3356  2 cups Bottle gourd (lauki) - cut into small p...              10   \n",
       "\n",
       "      CookTimeInMins  TotalTimeInMins  Servings               Cuisine  \\\n",
       "398               20               30         3            Rajasthani   \n",
       "2228              30               60         4  North Indian Recipes   \n",
       "3353              40               70         4                Indian   \n",
       "3356              25               35         4                Andhra   \n",
       "\n",
       "           Course                     Diet  \\\n",
       "398   Main Course               Vegetarian   \n",
       "2228        Lunch               Vegetarian   \n",
       "3353       Dinner  High Protein Vegetarian   \n",
       "3356        Lunch               Vegetarian   \n",
       "\n",
       "                                 TranslatedInstructions  \\\n",
       "398   To make gourd elder greens, first roast the el...   \n",
       "2228  To begin making the Tawa Tandoori Roti Recipe,...   \n",
       "3353  To begin making the Paneer Malai Makhani Birya...   \n",
       "3356  To begin making the Sorakaya Kura Recipe we wi...   \n",
       "\n",
       "                                                    URL lang  \\\n",
       "398   https://www.archanaskitchen.com/kerala-chicken...   en   \n",
       "2228  https://www.archanaskitchen.com/kerala-chicken...   en   \n",
       "3353  https://www.archanaskitchen.com/nandan-kozhi-r...   en   \n",
       "3356  https://www.archanaskitchen.com/kerala-chicken...   en   \n",
       "\n",
       "                                          P-Ingredients  flag  \\\n",
       "398   gourd peel chop, wood, oil curry leaves, cumin...     0   \n",
       "2228  Wheat Flour, Curd (Dahi Yogurt),Salt ,Sunflowe...     0   \n",
       "3353  Basmati rice, Ghee, Ginger Garlic Paste, Onion...     0   \n",
       "3356  Bottle gourd (lauki) cut into small pieces, Ar...     0   \n",
       "\n",
       "                                      ParsedIngredients  \\\n",
       "398   [{'Ingredient': 'peel and chop', 'Quantity': '...   \n",
       "2228  [{'Ingredient': 'Whole Wheat Flour', 'Quantity...   \n",
       "3353  [{'Ingredient': 'Basmati rice', 'Quantity': '1...   \n",
       "3356  [{'Ingredient': 'Bottle gourd lauki  cut into ...   \n",
       "\n",
       "                                              image-url  \n",
       "398   https://www.archanaskitchen.com/images/archana...  \n",
       "2228  https://www.archanaskitchen.com/images/archana...  \n",
       "3353  https://www.archanaskitchen.com/images/archana...  \n",
       "3356  https://www.archanaskitchen.com/images/archana...  "
      ]
     },
     "execution_count": 65,
     "metadata": {},
     "output_type": "execute_result"
    }
   ],
   "source": [
    "df[df[\"image-url\"]== \"https://www.archanaskitchen.com/images/archanaskitchen/1-Author/Monika_Manchanda/Nandan_Kozhi__Kerala_Style_Chicken_Curry.jpg\"]"
   ]
  },
  {
   "cell_type": "code",
   "execution_count": null,
   "metadata": {},
   "outputs": [],
   "source": []
  },
  {
   "cell_type": "code",
   "execution_count": null,
   "metadata": {},
   "outputs": [],
   "source": []
  },
  {
   "cell_type": "code",
   "execution_count": null,
   "metadata": {},
   "outputs": [],
   "source": []
  },
  {
   "cell_type": "code",
   "execution_count": null,
   "metadata": {},
   "outputs": [],
   "source": []
  },
  {
   "cell_type": "code",
   "execution_count": 51,
   "metadata": {},
   "outputs": [],
   "source": [
    "import re\n",
    "\n",
    "def parse_ingredients(ingredient_str):\n",
    "    parsed_ingredients = []\n",
    "    ingredients = ingredient_str.split(\",\")  # Split by commas to separate ingredients\n",
    "\n",
    "    # Predefined descriptors to filter out\n",
    "    descriptors = [\"to taste\", \"thinly sliced\", \"finely chopped\", \"as required\", \"deseeded\", \"-\"]\n",
    "\n",
    "    for item in ingredients:\n",
    "        item = item.strip()\n",
    "\n",
    "        # Skip unwanted items like just \"-\" or empty items\n",
    "        if item == \"-\" or not item:\n",
    "            continue\n",
    "\n",
    "        # Remove any descriptors or unnecessary parts like \" - to taste\", \" - thinly sliced\", etc.\n",
    "        for descriptor in descriptors:\n",
    "            item = re.sub(rf\"\\b{descriptor}\\b\", \"\", item).strip()\n",
    "\n",
    "        # Regex to match quantity, unit, and ingredient\n",
    "        match = re.match(r\"(\\d+\\.?\\d*/?\\d*)?\\s*([a-zA-Z]+)?\\s*(.+)\", item)\n",
    "        if match:\n",
    "            quantity = match.group(1) or \"as required\"\n",
    "            unit = match.group(2) or \"\"\n",
    "            ingredient = match.group(3).strip()\n",
    "\n",
    "            # Clean up ingredient (remove extra spaces or undesired characters)\n",
    "            ingredient = re.sub(r\"[^\\w\\s]\", \"\", ingredient).strip()\n",
    "\n",
    "            # Ensure the ingredient name is clean and not empty\n",
    "            if ingredient and ingredient not in descriptors:\n",
    "                parsed_ingredients.append({\n",
    "                    \"Ingredient\": ingredient,\n",
    "                    \"Quantity\": quantity.strip(),\n",
    "                    \"Unit\": unit.strip()\n",
    "                })\n",
    "\n",
    "    return parsed_ingredients\n",
    "\n",
    "\n",
    "# Apply the improved parsing function to the dataset\n",
    "df[\"ParsedIngredients\"] = df[\"TranslatedIngredients\"].apply(parse_ingredients)\n"
   ]
  },
  {
   "cell_type": "code",
   "execution_count": 52,
   "metadata": {},
   "outputs": [],
   "source": [
    "# # Adjusting quantities as before\n",
    "# def adjust_quantities_v2(parsed_ingredients, default_servings, desired_servings):\n",
    "#     adjusted_ingredients = []\n",
    "#     for item in parsed_ingredients:\n",
    "#         try:\n",
    "#             # Adjust quantities proportionally\n",
    "#             if item[\"Quantity\"].replace(\".\", \"\", 1).isdigit():  # Check if it's a valid number\n",
    "#                 adjusted_quantity = float(item[\"Quantity\"]) * desired_servings / default_servings\n",
    "#                 adjusted_ingredients.append({\n",
    "#                     \"Ingredient\": item[\"Ingredient\"],\n",
    "#                     \"Quantity\": round(adjusted_quantity, 2),  # Round to 2 decimal places\n",
    "#                     \"Unit\": item[\"Unit\"]\n",
    "#                 })\n",
    "#             else:\n",
    "#                 # Handle \"as required\" or other non-numeric quantities\n",
    "#                 adjusted_ingredients.append({\n",
    "#                     \"Ingredient\": item[\"Ingredient\"],\n",
    "#                     \"Quantity\": item[\"Quantity\"],\n",
    "#                     \"Unit\": item[\"Unit\"]\n",
    "#                 })\n",
    "#         except Exception as e:\n",
    "#             print(f\"Error adjusting ingredient: {item} - {e}\")\n",
    "#     return adjusted_ingredients"
   ]
  },
  {
   "cell_type": "code",
   "execution_count": 53,
   "metadata": {},
   "outputs": [
    {
     "name": "stdout",
     "output_type": "stream",
     "text": [
      "Original Ingredients: 6 Karela (Bitter Gourd/ Pavakkai) - deseeded,Salt - to taste,1 Onion - thinly sliced,3 tablespoon Gram flour (besan),2 teaspoons Turmeric powder (Haldi),1 tablespoon Red Chilli powder,2 teaspoons Cumin seeds (Jeera),1 tablespoon Coriander Powder (Dhania),1 tablespoon Amchur (Dry Mango Powder),Sunflower Oil - as required\n",
      "Parsed Ingredients: [{'Ingredient': 'Bitter Gourd Pavakkai', 'Quantity': '6', 'Unit': 'Karela'}, {'Ingredient': 'Gram flour besan', 'Quantity': '3', 'Unit': 'tablespoon'}, {'Ingredient': 'Turmeric powder Haldi', 'Quantity': '2', 'Unit': 'teaspoons'}, {'Ingredient': 'Red Chilli powder', 'Quantity': '1', 'Unit': 'tablespoon'}, {'Ingredient': 'Cumin seeds Jeera', 'Quantity': '2', 'Unit': 'teaspoons'}, {'Ingredient': 'Coriander Powder Dhania', 'Quantity': '1', 'Unit': 'tablespoon'}, {'Ingredient': 'Amchur Dry Mango Powder', 'Quantity': '1', 'Unit': 'tablespoon'}, {'Ingredient': 'Oil', 'Quantity': 'as required', 'Unit': 'Sunflower'}]\n"
     ]
    }
   ],
   "source": [
    "# Example usage\n",
    "recipe_index = 0  # Change to test with different recipes\n",
    "default_servings = df.loc[recipe_index, \"Servings\"]\n",
    "desired_servings = 4  # Example input\n",
    "parsed_ingredients = df.loc[recipe_index, \"ParsedIngredients\"]\n",
    "original_ingredients = df.loc[recipe_index, \"TranslatedIngredients\"]\n",
    "# Display results\n",
    "df.iloc[recipe_index]\n",
    "print(\"Original Ingredients:\", original_ingredients)\n",
    "print(\"Parsed Ingredients:\", parsed_ingredients)"
   ]
  },
  {
   "cell_type": "code",
   "execution_count": 70,
   "metadata": {},
   "outputs": [],
   "source": [
    "import json\n",
    "# Use a working placeholder image URL\n",
    "PLACEHOLDER_IMAGE_URL = \"https://upload.wikimedia.org/wikipedia/commons/a/ac/No_image_available.svg\"\n",
    "# Prepare recipe data\n",
    "def prepare_recipe_data(df):\n",
    "    recipe_data = {}\n",
    "    for _, row in df.iterrows():\n",
    "        recipe_name = row[\"TranslatedRecipeName\"]\n",
    "        default_servings = row[\"Servings\"]\n",
    "        ingredients = parse_ingredients(row[\"TranslatedIngredients\"])\n",
    "\n",
    "        course= row[\"Course\"]\n",
    "        diet=row[\"Diet\"]\n",
    "        # Handle NaN values and replace with defaults\n",
    "        image_url = row[\"image-url\"] if pd.notna(row[\"image-url\"]) else PLACEHOLDER_IMAGE_URL\n",
    "\n",
    "        recipe_data[recipe_name] = {\n",
    "            \"DefaultServings\": default_servings,\n",
    "            \"image-url\": image_url,\n",
    "            \"course\" : course,\n",
    "            \"diet\": diet,\n",
    "            \"Ingredients\": ingredients\n",
    "            \n",
    "        }\n",
    "    return recipe_data\n",
    "\n",
    "# Save recipe data to JSON file\n",
    "def save_to_json(data, filename):\n",
    "    with open(filename, \"w\", encoding=\"utf-8\") as file:\n",
    "        json.dump(data, file, indent=4, ensure_ascii=False)"
   ]
  },
  {
   "cell_type": "code",
   "execution_count": 71,
   "metadata": {},
   "outputs": [
    {
     "name": "stdout",
     "output_type": "stream",
     "text": [
      "Recipe data has been saved to 'recipe_data.json'\n"
     ]
    }
   ],
   "source": [
    "# Process the dataset and save it as JSON\n",
    "recipe_data = prepare_recipe_data(df)\n",
    "save_to_json(recipe_data, \"recipe_data.json\")\n",
    "\n",
    "print(\"Recipe data has been saved to 'recipe_data.json'\")"
   ]
  },
  {
   "cell_type": "code",
   "execution_count": null,
   "metadata": {},
   "outputs": [],
   "source": []
  },
  {
   "cell_type": "code",
   "execution_count": null,
   "metadata": {},
   "outputs": [],
   "source": []
  },
  {
   "cell_type": "code",
   "execution_count": null,
   "metadata": {},
   "outputs": [],
   "source": []
  },
  {
   "cell_type": "code",
   "execution_count": null,
   "metadata": {},
   "outputs": [],
   "source": []
  },
  {
   "cell_type": "code",
   "execution_count": null,
   "metadata": {},
   "outputs": [],
   "source": []
  },
  {
   "cell_type": "code",
   "execution_count": null,
   "metadata": {},
   "outputs": [],
   "source": []
  },
  {
   "cell_type": "code",
   "execution_count": null,
   "metadata": {},
   "outputs": [],
   "source": []
  },
  {
   "cell_type": "code",
   "execution_count": null,
   "metadata": {},
   "outputs": [],
   "source": []
  },
  {
   "cell_type": "code",
   "execution_count": null,
   "metadata": {},
   "outputs": [],
   "source": []
  },
  {
   "cell_type": "code",
   "execution_count": null,
   "metadata": {},
   "outputs": [],
   "source": []
  },
  {
   "cell_type": "code",
   "execution_count": null,
   "metadata": {},
   "outputs": [],
   "source": []
  },
  {
   "cell_type": "code",
   "execution_count": null,
   "metadata": {},
   "outputs": [],
   "source": []
  },
  {
   "cell_type": "code",
   "execution_count": null,
   "metadata": {},
   "outputs": [],
   "source": []
  },
  {
   "cell_type": "code",
   "execution_count": null,
   "metadata": {},
   "outputs": [],
   "source": []
  },
  {
   "cell_type": "code",
   "execution_count": null,
   "metadata": {},
   "outputs": [],
   "source": []
  },
  {
   "cell_type": "code",
   "execution_count": null,
   "metadata": {},
   "outputs": [],
   "source": []
  },
  {
   "cell_type": "code",
   "execution_count": null,
   "metadata": {},
   "outputs": [],
   "source": []
  },
  {
   "cell_type": "code",
   "execution_count": null,
   "metadata": {},
   "outputs": [],
   "source": []
  },
  {
   "cell_type": "code",
   "execution_count": 22,
   "metadata": {},
   "outputs": [],
   "source": []
  },
  {
   "cell_type": "code",
   "execution_count": null,
   "metadata": {},
   "outputs": [],
   "source": [
    "do more less you wish,cut into squares,cut into pieces,cut into cubes,cut into small cubes,per use, coarsely crushed, slit lengthwise,wash well in water, cut into half, make puree,to smear, cut to small florets, soaked in hot water,roughly thin,roughly thin,into inch square pieces,granulated"
   ]
  },
  {
   "cell_type": "code",
   "execution_count": 25,
   "metadata": {},
   "outputs": [
    {
     "ename": "SyntaxError",
     "evalue": "invalid syntax (<ipython-input-25-97055e7bcdf9>, line 1)",
     "output_type": "error",
     "traceback": [
      "\u001b[1;36m  File \u001b[1;32m\"<ipython-input-25-97055e7bcdf9>\"\u001b[1;36m, line \u001b[1;32m1\u001b[0m\n\u001b[1;33m    df[df[\"image-url\"]= https://www.archanaskitchen.com/images/archanaskitchen/1-Author/Monika_Manchanda/Nandan_Kozhi__Kerala_Style_Chicken_Curry.jpg\u001b[0m\n\u001b[1;37m                      ^\u001b[0m\n\u001b[1;31mSyntaxError\u001b[0m\u001b[1;31m:\u001b[0m invalid syntax\n"
     ]
    }
   ],
   "source": []
  },
  {
   "cell_type": "code",
   "execution_count": 36,
   "metadata": {},
   "outputs": [
    {
     "data": {
      "text/html": [
       "<div>\n",
       "<style scoped>\n",
       "    .dataframe tbody tr th:only-of-type {\n",
       "        vertical-align: middle;\n",
       "    }\n",
       "\n",
       "    .dataframe tbody tr th {\n",
       "        vertical-align: top;\n",
       "    }\n",
       "\n",
       "    .dataframe thead th {\n",
       "        text-align: right;\n",
       "    }\n",
       "</style>\n",
       "<table border=\"1\" class=\"dataframe\">\n",
       "  <thead>\n",
       "    <tr style=\"text-align: right;\">\n",
       "      <th></th>\n",
       "      <th>Unnamed: 0</th>\n",
       "      <th>TranslatedRecipeName</th>\n",
       "      <th>TranslatedIngredients</th>\n",
       "      <th>TotalTimeInMins</th>\n",
       "      <th>Cuisine</th>\n",
       "      <th>TranslatedInstructions</th>\n",
       "      <th>URL</th>\n",
       "      <th>P-Ingredients</th>\n",
       "      <th>flag</th>\n",
       "      <th>image-url</th>\n",
       "    </tr>\n",
       "  </thead>\n",
       "  <tbody>\n",
       "    <tr>\n",
       "      <th>398</th>\n",
       "      <td>398</td>\n",
       "      <td>Kerala Chicken Curry Recipe With Freshly Groun...</td>\n",
       "      <td>500 Chicken - medium sized pieces,1 Onion - ro...</td>\n",
       "      <td>55</td>\n",
       "      <td>Kerala Recipes</td>\n",
       "      <td>To prepare Kerala Chicken Curry With Freshly G...</td>\n",
       "      <td>https://www.archanaskitchen.com/kerala-chicken...</td>\n",
       "      <td>chicken medium sized pieces,onion roughly,ging...</td>\n",
       "      <td>-10</td>\n",
       "      <td>https://www.archanaskitchen.com/images/archana...</td>\n",
       "    </tr>\n",
       "    <tr>\n",
       "      <th>2228</th>\n",
       "      <td>2228</td>\n",
       "      <td>Kerala Chicken Curry Recipe - Nadan Kozhi Curry</td>\n",
       "      <td>500 grams Chicken - curry-cut with bones,2 tea...</td>\n",
       "      <td>40</td>\n",
       "      <td>Kerala Recipes</td>\n",
       "      <td>To begin making Kerala Chicken Curry Recipe, w...</td>\n",
       "      <td>https://www.archanaskitchen.com/kerala-chicken...</td>\n",
       "      <td>chicken currycut with bones,red chilli powder,...</td>\n",
       "      <td>-9</td>\n",
       "      <td>https://www.archanaskitchen.com/images/archana...</td>\n",
       "    </tr>\n",
       "    <tr>\n",
       "      <th>3353</th>\n",
       "      <td>3353</td>\n",
       "      <td>Nandan Kozhi Recipe  - Kerala Style Chicken Curry</td>\n",
       "      <td>500 grams Chicken - curry cut,3 Onions - slice...</td>\n",
       "      <td>50</td>\n",
       "      <td>Kerala Recipes</td>\n",
       "      <td>To begin making the Nandan Kozhi recipe, first...</td>\n",
       "      <td>https://www.archanaskitchen.com/nandan-kozhi-r...</td>\n",
       "      <td>chicken curry cut,onion,tomatoes,ginger,cloves...</td>\n",
       "      <td>-8</td>\n",
       "      <td>https://www.archanaskitchen.com/images/archana...</td>\n",
       "    </tr>\n",
       "    <tr>\n",
       "      <th>3356</th>\n",
       "      <td>3356</td>\n",
       "      <td>Kerala Chicken Curry Recipe</td>\n",
       "      <td>400 grams Chicken - cut into medium sized piec...</td>\n",
       "      <td>70</td>\n",
       "      <td>Kerala Recipes</td>\n",
       "      <td>To prepare the Kerala Chicken Curry, in a mixi...</td>\n",
       "      <td>https://www.archanaskitchen.com/kerala-chicken...</td>\n",
       "      <td>chicken cut into medium sized pieces,curd (dah...</td>\n",
       "      <td>-11</td>\n",
       "      <td>https://www.archanaskitchen.com/images/archana...</td>\n",
       "    </tr>\n",
       "  </tbody>\n",
       "</table>\n",
       "</div>"
      ],
      "text/plain": [
       "      Unnamed: 0                               TranslatedRecipeName  \\\n",
       "398          398  Kerala Chicken Curry Recipe With Freshly Groun...   \n",
       "2228        2228    Kerala Chicken Curry Recipe - Nadan Kozhi Curry   \n",
       "3353        3353  Nandan Kozhi Recipe  - Kerala Style Chicken Curry   \n",
       "3356        3356                        Kerala Chicken Curry Recipe   \n",
       "\n",
       "                                  TranslatedIngredients  TotalTimeInMins  \\\n",
       "398   500 Chicken - medium sized pieces,1 Onion - ro...               55   \n",
       "2228  500 grams Chicken - curry-cut with bones,2 tea...               40   \n",
       "3353  500 grams Chicken - curry cut,3 Onions - slice...               50   \n",
       "3356  400 grams Chicken - cut into medium sized piec...               70   \n",
       "\n",
       "             Cuisine                             TranslatedInstructions  \\\n",
       "398   Kerala Recipes  To prepare Kerala Chicken Curry With Freshly G...   \n",
       "2228  Kerala Recipes  To begin making Kerala Chicken Curry Recipe, w...   \n",
       "3353  Kerala Recipes  To begin making the Nandan Kozhi recipe, first...   \n",
       "3356  Kerala Recipes  To prepare the Kerala Chicken Curry, in a mixi...   \n",
       "\n",
       "                                                    URL  \\\n",
       "398   https://www.archanaskitchen.com/kerala-chicken...   \n",
       "2228  https://www.archanaskitchen.com/kerala-chicken...   \n",
       "3353  https://www.archanaskitchen.com/nandan-kozhi-r...   \n",
       "3356  https://www.archanaskitchen.com/kerala-chicken...   \n",
       "\n",
       "                                          P-Ingredients  flag  \\\n",
       "398   chicken medium sized pieces,onion roughly,ging...   -10   \n",
       "2228  chicken currycut with bones,red chilli powder,...    -9   \n",
       "3353  chicken curry cut,onion,tomatoes,ginger,cloves...    -8   \n",
       "3356  chicken cut into medium sized pieces,curd (dah...   -11   \n",
       "\n",
       "                                              image-url  \n",
       "398   https://www.archanaskitchen.com/images/archana...  \n",
       "2228  https://www.archanaskitchen.com/images/archana...  \n",
       "3353  https://www.archanaskitchen.com/images/archana...  \n",
       "3356  https://www.archanaskitchen.com/images/archana...  "
      ]
     },
     "execution_count": 36,
     "metadata": {},
     "output_type": "execute_result"
    }
   ],
   "source": []
  }
 ],
 "metadata": {
  "kernelspec": {
   "display_name": "Python 3 (ipykernel)",
   "language": "python",
   "name": "python3"
  },
  "language_info": {
   "codemirror_mode": {
    "name": "ipython",
    "version": 3
   },
   "file_extension": ".py",
   "mimetype": "text/x-python",
   "name": "python",
   "nbconvert_exporter": "python",
   "pygments_lexer": "ipython3",
   "version": "3.12.1"
  }
 },
 "nbformat": 4,
 "nbformat_minor": 4
}
